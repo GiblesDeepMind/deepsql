{
 "cells": [
  {
   "cell_type": "markdown",
   "metadata": {},
   "source": [
    "# 0. Cross JOIN 원리"
   ]
  },
  {
   "cell_type": "code",
   "execution_count": 3,
   "metadata": {
    "ExecuteTime": {
     "end_time": "2020-11-05T14:36:20.336038Z",
     "start_time": "2020-11-05T14:36:20.332048Z"
    }
   },
   "outputs": [],
   "source": [
    "Col_one = [1, 2, 3, 2]\n",
    "Col_two = [1, 1, 2, 2]"
   ]
  },
  {
   "cell_type": "code",
   "execution_count": 12,
   "metadata": {
    "ExecuteTime": {
     "end_time": "2020-11-05T15:09:13.498123Z",
     "start_time": "2020-11-05T15:09:13.491114Z"
    }
   },
   "outputs": [
    {
     "data": {
      "text/plain": [
       "0"
      ]
     },
     "execution_count": 12,
     "metadata": {},
     "output_type": "execute_result"
    }
   ],
   "source": [
    "Col_one.index(1)"
   ]
  },
  {
   "cell_type": "code",
   "execution_count": 11,
   "metadata": {
    "ExecuteTime": {
     "end_time": "2020-11-05T15:07:01.540782Z",
     "start_time": "2020-11-05T15:07:01.536780Z"
    }
   },
   "outputs": [
    {
     "name": "stdout",
     "output_type": "stream",
     "text": [
      "첫 번재 열 : 1, 두 번째 열 : 1\n",
      "첫 번재 열 : 1, 두 번째 열 : 1\n",
      "첫 번재 열 : 1, 두 번째 열 : 2\n",
      "첫 번재 열 : 1, 두 번째 열 : 2\n",
      "첫 번재 열 : 2, 두 번째 열 : 1\n",
      "첫 번재 열 : 2, 두 번째 열 : 1\n",
      "첫 번재 열 : 2, 두 번째 열 : 2\n",
      "첫 번재 열 : 2, 두 번째 열 : 2\n",
      "첫 번재 열 : 3, 두 번째 열 : 1\n",
      "첫 번재 열 : 3, 두 번째 열 : 1\n",
      "첫 번재 열 : 3, 두 번째 열 : 2\n",
      "첫 번재 열 : 3, 두 번째 열 : 2\n",
      "첫 번재 열 : 2, 두 번째 열 : 1\n",
      "첫 번재 열 : 2, 두 번째 열 : 1\n",
      "첫 번재 열 : 2, 두 번째 열 : 2\n",
      "첫 번재 열 : 2, 두 번째 열 : 2\n",
      "총 16행 4X4 = 16\n"
     ]
    }
   ],
   "source": [
    "total_row = 0\n",
    "for i in Col_one :\n",
    "    for j in Col_two : \n",
    "        print(f\"첫 번재 열 : {i}, 두 번째 열 : {j}\")\n",
    "        total_row+=1\n",
    "print(f\"총 {total_row}행 {len(Col_one)}X{len(Col_two)} = {total_row}\")"
   ]
  },
  {
   "cell_type": "markdown",
   "metadata": {},
   "source": [
    "# 1. Inner JOIN 원리"
   ]
  },
  {
   "cell_type": "code",
   "execution_count": 16,
   "metadata": {
    "ExecuteTime": {
     "end_time": "2020-11-05T15:11:35.228758Z",
     "start_time": "2020-11-05T15:11:35.223777Z"
    }
   },
   "outputs": [
    {
     "name": "stdout",
     "output_type": "stream",
     "text": [
      "첫 번재 열 : 1, 두 번째 열 : 1\n",
      "첫 번재 열 : 1, 두 번째 열 : 1\n",
      "                                   \n",
      "                                   \n",
      "                                   \n",
      "                                   \n",
      "                                   \n",
      "                                   \n",
      "                                   \n",
      "                                   \n",
      "                                   \n",
      "                                   \n",
      "                                   \n",
      "                                   \n",
      "                                   \n",
      "                                   \n",
      "총 2행 4X4 = 2\n"
     ]
    }
   ],
   "source": [
    "total_row = 0\n",
    "for i in Col_one :\n",
    "    for j in Col_two :\n",
    "        if i == j and Col_one.index(i) == Col_two.index(j):\n",
    "            print(f\"첫 번재 열 : {i}, 두 번째 열 : {j}\")\n",
    "            total_row+=1\n",
    "        else:\n",
    "            print(f\"                                   \")\n",
    "print(f\"총 {total_row}행 {len(Col_one)}X{len(Col_two)} = {total_row}\")"
   ]
  },
  {
   "cell_type": "code",
   "execution_count": null,
   "metadata": {},
   "outputs": [],
   "source": []
  }
 ],
 "metadata": {
  "hide_input": false,
  "kernelspec": {
   "display_name": "Python 3",
   "language": "python",
   "name": "python3"
  },
  "language_info": {
   "codemirror_mode": {
    "name": "ipython",
    "version": 3
   },
   "file_extension": ".py",
   "mimetype": "text/x-python",
   "name": "python",
   "nbconvert_exporter": "python",
   "pygments_lexer": "ipython3",
   "version": "3.8.3"
  },
  "latex_envs": {
   "LaTeX_envs_menu_present": true,
   "autoclose": false,
   "autocomplete": true,
   "bibliofile": "biblio.bib",
   "cite_by": "apalike",
   "current_citInitial": 1,
   "eqLabelWithNumbers": true,
   "eqNumInitial": 1,
   "hotkeys": {
    "equation": "Ctrl-E",
    "itemize": "Ctrl-I"
   },
   "labels_anchors": false,
   "latex_user_defs": false,
   "report_style_numbering": false,
   "user_envs_cfg": false
  },
  "toc": {
   "base_numbering": 1,
   "nav_menu": {},
   "number_sections": true,
   "sideBar": true,
   "skip_h1_title": false,
   "title_cell": "Table of Contents",
   "title_sidebar": "Contents",
   "toc_cell": false,
   "toc_position": {},
   "toc_section_display": true,
   "toc_window_display": false
  },
  "varInspector": {
   "cols": {
    "lenName": 16,
    "lenType": 16,
    "lenVar": 40
   },
   "kernels_config": {
    "python": {
     "delete_cmd_postfix": "",
     "delete_cmd_prefix": "del ",
     "library": "var_list.py",
     "varRefreshCmd": "print(var_dic_list())"
    },
    "r": {
     "delete_cmd_postfix": ") ",
     "delete_cmd_prefix": "rm(",
     "library": "var_list.r",
     "varRefreshCmd": "cat(var_dic_list()) "
    }
   },
   "types_to_exclude": [
    "module",
    "function",
    "builtin_function_or_method",
    "instance",
    "_Feature"
   ],
   "window_display": false
  }
 },
 "nbformat": 4,
 "nbformat_minor": 4
}
