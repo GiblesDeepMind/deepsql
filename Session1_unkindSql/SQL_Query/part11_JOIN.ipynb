{
 "cells": [
  {
   "cell_type": "markdown",
   "metadata": {},
   "source": [
    "# 0. Cross JOIN 원리"
   ]
  },
  {
   "cell_type": "code",
   "execution_count": 12,
   "metadata": {
    "ExecuteTime": {
     "end_time": "2020-11-08T06:40:51.839932Z",
     "start_time": "2020-11-08T06:40:51.836391Z"
    }
   },
   "outputs": [],
   "source": [
    "Col_one = [1, 2, 3, 4, 5]\n",
    "Col_two = [1, 3, 3, 5, 5]"
   ]
  },
  {
   "cell_type": "code",
   "execution_count": 13,
   "metadata": {
    "ExecuteTime": {
     "end_time": "2020-11-08T06:40:57.333297Z",
     "start_time": "2020-11-08T06:40:57.328307Z"
    }
   },
   "outputs": [
    {
     "name": "stdout",
     "output_type": "stream",
     "text": [
      "첫 번재 열 : 1, 두 번째 열 : 1\n",
      "첫 번재 열 : 1, 두 번째 열 : 3\n",
      "첫 번재 열 : 1, 두 번째 열 : 3\n",
      "첫 번재 열 : 1, 두 번째 열 : 5\n",
      "첫 번재 열 : 1, 두 번째 열 : 5\n",
      "첫 번재 열 : 2, 두 번째 열 : 1\n",
      "첫 번재 열 : 2, 두 번째 열 : 3\n",
      "첫 번재 열 : 2, 두 번째 열 : 3\n",
      "첫 번재 열 : 2, 두 번째 열 : 5\n",
      "첫 번재 열 : 2, 두 번째 열 : 5\n",
      "첫 번재 열 : 3, 두 번째 열 : 1\n",
      "첫 번재 열 : 3, 두 번째 열 : 3\n",
      "첫 번재 열 : 3, 두 번째 열 : 3\n",
      "첫 번재 열 : 3, 두 번째 열 : 5\n",
      "첫 번재 열 : 3, 두 번째 열 : 5\n",
      "첫 번재 열 : 4, 두 번째 열 : 1\n",
      "첫 번재 열 : 4, 두 번째 열 : 3\n",
      "첫 번재 열 : 4, 두 번째 열 : 3\n",
      "첫 번재 열 : 4, 두 번째 열 : 5\n",
      "첫 번재 열 : 4, 두 번째 열 : 5\n",
      "첫 번재 열 : 5, 두 번째 열 : 1\n",
      "첫 번재 열 : 5, 두 번째 열 : 3\n",
      "첫 번재 열 : 5, 두 번째 열 : 3\n",
      "첫 번재 열 : 5, 두 번째 열 : 5\n",
      "첫 번재 열 : 5, 두 번째 열 : 5\n",
      "총 25행 5X5 = 25\n"
     ]
    }
   ],
   "source": [
    "total_row = 0\n",
    "for i in Col_one :\n",
    "    for j in Col_two : \n",
    "        print(f\"첫 번재 열 : {i}, 두 번째 열 : {j}\")\n",
    "        total_row+=1\n",
    "print(f\"총 {total_row}행 {len(Col_one)}X{len(Col_two)} = {total_row}\")"
   ]
  },
  {
   "cell_type": "markdown",
   "metadata": {},
   "source": [
    "# 1. Inner JOIN 원리"
   ]
  },
  {
   "cell_type": "code",
   "execution_count": 23,
   "metadata": {
    "ExecuteTime": {
     "end_time": "2020-11-08T09:11:50.138551Z",
     "start_time": "2020-11-08T09:11:50.134564Z"
    }
   },
   "outputs": [
    {
     "name": "stdout",
     "output_type": "stream",
     "text": [
      "첫 번재 열 : 1, 두 번째 열 : 1\n",
      "첫 번재 열 : 3, 두 번째 열 : 3\n",
      "첫 번재 열 : 3, 두 번째 열 : 3\n",
      "첫 번재 열 : 5, 두 번째 열 : 5\n",
      "첫 번재 열 : 5, 두 번째 열 : 5\n",
      "총 5행\n"
     ]
    }
   ],
   "source": [
    "total_row = 0\n",
    "for i in Col_one :\n",
    "    for j in Col_two :\n",
    "        if i == j :\n",
    "            print(f\"첫 번재 열 : {i}, 두 번째 열 : {j}\")\n",
    "            total_row+=1\n",
    "        else:\n",
    "            pass\n",
    "print(f\"총 {total_row}행\")"
   ]
  },
  {
   "cell_type": "code",
   "execution_count": null,
   "metadata": {},
   "outputs": [],
   "source": []
  }
 ],
 "metadata": {
  "hide_input": false,
  "kernelspec": {
   "display_name": "Python 3",
   "language": "python",
   "name": "python3"
  },
  "language_info": {
   "codemirror_mode": {
    "name": "ipython",
    "version": 3
   },
   "file_extension": ".py",
   "mimetype": "text/x-python",
   "name": "python",
   "nbconvert_exporter": "python",
   "pygments_lexer": "ipython3",
   "version": "3.8.3"
  },
  "latex_envs": {
   "LaTeX_envs_menu_present": true,
   "autoclose": false,
   "autocomplete": true,
   "bibliofile": "biblio.bib",
   "cite_by": "apalike",
   "current_citInitial": 1,
   "eqLabelWithNumbers": true,
   "eqNumInitial": 1,
   "hotkeys": {
    "equation": "Ctrl-E",
    "itemize": "Ctrl-I"
   },
   "labels_anchors": false,
   "latex_user_defs": false,
   "report_style_numbering": false,
   "user_envs_cfg": false
  },
  "toc": {
   "base_numbering": 1,
   "nav_menu": {},
   "number_sections": true,
   "sideBar": true,
   "skip_h1_title": false,
   "title_cell": "Table of Contents",
   "title_sidebar": "Contents",
   "toc_cell": false,
   "toc_position": {},
   "toc_section_display": true,
   "toc_window_display": false
  },
  "varInspector": {
   "cols": {
    "lenName": 16,
    "lenType": 16,
    "lenVar": 40
   },
   "kernels_config": {
    "python": {
     "delete_cmd_postfix": "",
     "delete_cmd_prefix": "del ",
     "library": "var_list.py",
     "varRefreshCmd": "print(var_dic_list())"
    },
    "r": {
     "delete_cmd_postfix": ") ",
     "delete_cmd_prefix": "rm(",
     "library": "var_list.r",
     "varRefreshCmd": "cat(var_dic_list()) "
    }
   },
   "types_to_exclude": [
    "module",
    "function",
    "builtin_function_or_method",
    "instance",
    "_Feature"
   ],
   "window_display": false
  }
 },
 "nbformat": 4,
 "nbformat_minor": 4
}
